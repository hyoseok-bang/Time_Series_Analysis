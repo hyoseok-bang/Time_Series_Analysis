{
 "cells": [
  {
   "cell_type": "markdown",
   "metadata": {},
   "source": [
    "# **0. 컴퓨터와의 소통을 위한 도구 소개**  \n",
    "\n",
    "> **Python**\n",
    "> - 간결하고 쉬운 컴퓨터와의 소통언어\n",
    "> - 데이터분석과 머신러닝을 위한 수많은 라이브러리를 포함\n",
    "> - 다양한 확장이 용이(ex. R, SPSS, etc.)\n",
    "\n",
    "> **Anaconda**\n",
    "> - Python기반의 Open Data Science Platform\n",
    "> - Python을 포함하여 Python Library 등을 하나로 정리해 둔 배포판\n",
    "> - Pandas, Numpy, Matplotlib 등 데이터분석에 유용한 Library를 포함\n",
    "> - 추가적인 Library를 연결 및 확장하여 개발/웹/오피스/비즈니스로 활용가능\n",
    ">> - 어떤 라이브러리를 써야할지 잘 모르겠을때: https://github.com/vinta/awesome-python\n",
    ">> - 주목받는 파이썬 프로젝트들을 둘러보고 싶을때: https://github.com/trending/python\n",
    "\n",
    "> **Jupyter Notebook / Jupyter Lab**\n",
    "> - Interactive 환경을 인간에게 제공하여 컴퓨터(Programming Platform)와 소통을 쉽게함\n",
    "> - Anaconda 프로그래밍 환경을 그대로 사용\n",
    "> - 코딩하면서 바로 결과를 확인할 수 있음\n",
    "> - 문서화(Markdown)와 클라우드(Git, Google Drive 등) 연결/저장 등이 가능\n",
    "> - 각종 단축키와 튜터리얼 등의 자료가 많음"
   ]
  },
  {
   "cell_type": "markdown",
   "metadata": {},
   "source": [
    "# **1. 분석환경 세팅하기(윈도우10기준)**  "
   ]
  },
  {
   "cell_type": "markdown",
   "metadata": {},
   "source": [
    "## **1-1) 기본세팅: Anaconda & Jupyter**\n",
    "\n",
    "**1) PC 내 제어판: 이전에 설치된 기록이 있다면 삭제**  \n",
    "-> 시작 -> \"제어판\" 타이핑 -> \"제어판\" 선택  \n",
    "-> 프로그램및기능 선택  \n",
    "-> Anaconda3 또는 Python으로 시작되는 이름 선택  \n",
    "-> 우클릭으로 제거  \n",
    "**2) 인터넷: 프로그램 다운로드**  \n",
    "-> https://www.anaconda.com/download/ 접속  \n",
    "-> Windows/macOX/Linux중 Windows 클릭  \n",
    "-> Python \"Download\" 클릭  \n",
    "**3) PC: 다운로드한 프로그램 실행 및 설치**  \n",
    "-> 다운로드한 설치파일 우클릭으로 \"관리자 권한으로 실행\"  \n",
    "->\"Next\"를 누르며 진행하면 되는데 설치 중 \"Advanced Options\" 페이지에서  \n",
    "\"Add Anaconda to the system PATH environment variable\"을 선택을 체크하고 진행  \n",
    "(본 링크 https://hobbang143.blog.me/221461726444 \"설치 02\" 부터 동일하게 참조)  "
   ]
  },
  {
   "cell_type": "markdown",
   "metadata": {},
   "source": [
    "## **1-2) 고급세팅: PIP & Jupyter Notebook & Jupyter Lab 업데이트 및 확장**\n",
    "\n",
    "**1) PC: Anaconda Prompt 접속**  \n",
    "-> 시작 -> \"Anaconda\" 타이핑  \n",
    "-> \"Anaconda Prompt\" 우클릭으로 \"관리자 권한으로 실행\"  \n",
    "**2) Anaconda Prompt: PIP & Jupyter Notebook & Jupyter Lab 업데이트 및 확장 한번에 설치**  \n",
    "**(하기 내용 복사 후 Anaconda Prompt에 우클릭(붙여넣기))**  \n",
    ":: Update of PIP  \n",
    "pip install --upgrade pip  \n",
    "python -m pip install --user --upgrade pip  \n",
    ":: Jupyter Nbextensions  \n",
    "pip install jupyter_contrib_nbextensions  \n",
    "jupyter contrib nbextension install --user  \n",
    ":: Jupyter Lab  \n",
    "pip install jupyterlab  \n",
    "pip install --upgrade jupyterlab  \n",
    ":: Jupyter Lab Extensions Package  \n",
    "pip install nodejs  \n",
    "conda install --yes nodejs  \n",
    "conda install -c conda-forge --yes nodejs  \n",
    ":: Table of Contents  \n",
    "jupyter labextension install @jupyterlab/toc    \n",
    ":: Shortcut UI  \n",
    "jupyter labextension install @jupyterlab/shortcutui  \n",
    ":: Variable Inspector  \n",
    "jupyter labextension install @lckr/jupyterlab_variableinspector  \n",
    ":: Go to Definition of Module  \n",
    "jupyter labextension install @krassowski/jupyterlab_go_to_definition    \n",
    ":: Interactive Visualization  \n",
    "jupyter labextension install @jupyter-widgets/jupyterlab-manager    \n",
    "jupyter labextension install lineup_widget  \n",
    ":: Connection to Github  \n",
    "jupyter labextension install @jupyterlab/github   \n",
    ":: CPU+RAM Monitor  \n",
    "pip install nbresuse    \n",
    "jupyter labextension install jupyterlab-topbar-extension jupyterlab-system-monitor    \n",
    ":: File Tree Viewer  \n",
    "jupyter labextension install jupyterlab_filetree  \n",
    ":: Download Folder as Zip File  \n",
    "conda install --yes jupyter-archive  \n",
    "jupyter lab build  \n",
    "jupyter labextension update --all  \n",
    ":: End  \n",
    "    "
   ]
  },
  {
   "cell_type": "markdown",
   "metadata": {},
   "source": [
    "## **1-3) 선택세팅: Jupyter Lab에 R연결**\n",
    "\n",
    "**1) 인터넷: R프로그램 다운로드 및 설치** \n",
    "-> https://cran.r-project.org/bin/windows/base/ 접속  \n",
    "-> \"Download\" 클릭 및 실행  \n",
    "**2) 인터넷: Git 설치**  \n",
    "-> https://git-scm.com 접속  \n",
    "-> \"Download\" 클릭 및 실행  \n",
    "**3) PC: Anaconda Prompt 접속**  \n",
    "-> 시작 -> \"Anaconda\" 타이핑  \n",
    "-> \"Anaconda Prompt\" 우클릭으로 \"관리자 권한으로 실행\"  \n",
    "**4) Anaconda Prompt: Jupyter Client & R설치**  \n",
    "-> conda install --yes -c anaconda jupyter_client  \n",
    "-> conda install --yes -c r r-essentials  \n",
    "**5) Anaconda Prompt: R패키지 설치**\n",
    "-> cd C:\\Program Files\\R\\R-3.6.1\\bin(R이 설치된 경로로 이동)\n",
    "-> R.exe   \n",
    "-> install.packages(\"devtools\")  \n",
    "-> devtools::install_github(\"IRkernel/IRkernel\")  \n",
    "-> IRkernel::installspec(user = FALSE) "
   ]
  },
  {
   "cell_type": "markdown",
   "metadata": {},
   "source": [
    "# **2. 분석준비 설정 및 강의시작(윈도우10기준)**  "
   ]
  },
  {
   "cell_type": "markdown",
   "metadata": {},
   "source": [
    "## **2-1) Jupyter Notebook & Jupyter Lab 열기 및 내부 설정**\n",
    "\n",
    "**1) PC: Jupyter Notebook 속성 진입**  \n",
    "-> 시작 -> \"Jupyter\" 타이핑  \n",
    "-> \"Jupyter Notebook\" 우클릭으로 \"작업 표시줄에 고정\"  \n",
    "-> 작업 표시줄의 \"Jupyter Notebook\" 아이콘 우클릭  \n",
    "-> 상단 \"Jupyter Notebook\" 우클릭 -> 속성 클릭  \n",
    "**2) PC: Jupyter Notebook 작업경로 반영**  \n",
    "-> \"대상\"에서 \"%USERPROFILE%/\" 삭제후 본인 작업 폴더 반영(ex. D:\\)  \n",
    "-> (필요시:기존) jupyter-notebook-script.py (필요시:변경) jupyter-lab-script.py  \n",
    "-> \"시작위치\"에서 %HOMEPATH% 삭제후 본인 작업 폴더 반영(ex. D:\\)  \n",
    "-> 하단 \"확인\" 클릭  \n",
    "**3) PC: Jupyter Notebook 실행**  \n",
    "-> 작업 표시줄의 \"Jupyter Notebook\" 좌클릭  \n",
    "-> (만약 인터넷 창이 반응이 없다면) 인터넷 주소창에 http://localhost:8888/tree 타이핑  \n",
    "**4) PC: Jupyter Notebook Nbextensions 기능 추가**  \n",
    "-> Files/Running/Clusters/Nbextensions 중 Nbextensions 클릭  \n",
    "-> \"disable configuration for nbextensions without explicit compatibility\" 체크 해제  \n",
    "-> 하기 7종 클릭하여 기능확인 후 필요시 추가(Table of Contents는 수업용 필수)  \n",
    "- Table of Contents\n",
    "- Autopep8\n",
    "- Codefolding\n",
    "- Collapsible Headings\n",
    "- Hide Input All\n",
    "- Execute Time\n",
    "- Variable Inspector\n",
    "\n",
    "**5) PC: Jupyter Notebook으로 강의시작(이론대응)**  \n",
    "-> Files/Running/Clusters/Nbextensions 중 Files 클릭  \n",
    "-> 다운로드 받은 강의자료의 폴더위치로 이동하여 자료 실행  \n",
    "**6) PC: Jupyter Lab으로 강의시작(실습대응): 확장기능설치는 1-2)에 이미 포함됨**  \n",
    "-> 인터넷 주소창에서 http://localhost:8888/lab 타이핑  \n",
    "-> 좌측 상단 폴더에서 다운로드 받은 강의자료의 폴더위치로 이동하여 자료 실행  "
   ]
  },
  {
   "cell_type": "markdown",
   "metadata": {},
   "source": [
    "# **별첨. 이상 무!**\n",
    "\n",
    "- 위 내용들이 순서대로 진행되야 하며, 제대로 진행하셨다면 문제 발생 확률 낮음  \n",
    "- 만약 이상이 있다면 모두 삭제 후 처음부터 하나씩 다시 진행하시길 권장  "
   ]
  }
 ],
 "metadata": {
  "hide_input": false,
  "kernelspec": {
   "display_name": "Python 3",
   "language": "python",
   "name": "python3"
  },
  "language_info": {
   "codemirror_mode": {
    "name": "ipython",
    "version": 3
   },
   "file_extension": ".py",
   "mimetype": "text/x-python",
   "name": "python",
   "nbconvert_exporter": "python",
   "pygments_lexer": "ipython3",
   "version": "3.8.8"
  },
  "toc": {
   "base_numbering": 1,
   "nav_menu": {},
   "number_sections": true,
   "sideBar": true,
   "skip_h1_title": false,
   "title_cell": "Table of Contents",
   "title_sidebar": "Contents",
   "toc_cell": false,
   "toc_position": {
    "height": "calc(100% - 180px)",
    "left": "10px",
    "top": "150px",
    "width": "371px"
   },
   "toc_section_display": true,
   "toc_window_display": true
  },
  "toc-autonumbering": false,
  "varInspector": {
   "cols": {
    "lenName": 16,
    "lenType": 16,
    "lenVar": 40
   },
   "kernels_config": {
    "python": {
     "delete_cmd_postfix": "",
     "delete_cmd_prefix": "del ",
     "library": "var_list.py",
     "varRefreshCmd": "print(var_dic_list())"
    },
    "r": {
     "delete_cmd_postfix": ") ",
     "delete_cmd_prefix": "rm(",
     "library": "var_list.r",
     "varRefreshCmd": "cat(var_dic_list()) "
    }
   },
   "types_to_exclude": [
    "module",
    "function",
    "builtin_function_or_method",
    "instance",
    "_Feature"
   ],
   "window_display": false
  }
 },
 "nbformat": 4,
 "nbformat_minor": 4
}
